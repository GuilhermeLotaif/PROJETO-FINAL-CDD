{
 "cells": [
  {
   "cell_type": "markdown",
   "metadata": {},
   "source": [
    "# Projeto 3\n",
    "***\n",
    "\n",
    "### Análise de projetos no Kickstarter\n",
    "\n",
    "As análises feitas a seguir foram feitas a partir do seguinte dataset:\n",
    "\n",
    "- https://www.kaggle.com/kemical/kickstarter-projects\n",
    "\n",
    "**Objetivo deste estudo:** Descobrir a probabilidade de sucesso de um projeto no kickstarter."
   ]
  },
  {
   "cell_type": "code",
   "execution_count": 1,
   "metadata": {},
   "outputs": [],
   "source": [
    "#importando bibliotecas:\n",
    "import chardet\n",
    "import pandas as pd\n",
    "import numpy as np\n",
    "import seaborn as sns\n",
    "import matplotlib.pyplot as plt\n",
    "from scipy.stats import norm,probplot\n",
    "plt.style.use('ggplot')\n",
    "\n",
    "from sklearn.model_selection import train_test_split"
   ]
  },
  {
   "cell_type": "markdown",
   "metadata": {},
   "source": [
    "## Importando o dataframe:\n"
   ]
  },
  {
   "cell_type": "markdown",
   "metadata": {},
   "source": [
    "#### Vamos descobrir qual decodificador usar para abrir o arquivo:"
   ]
  },
  {
   "cell_type": "code",
   "execution_count": 2,
   "metadata": {},
   "outputs": [
    {
     "name": "stdout",
     "output_type": "stream",
     "text": [
      "A codificação do arquivo é: Windows-1252, com 73% de certeza.\n"
     ]
    }
   ],
   "source": [
    "#Análisando o tipo de codificação do arquivo:\n",
    "with open(\"ks-projects-201612.csv\", 'rb') as data:\n",
    "    result = chardet.detect(data.read(10000))\n",
    "\n",
    "print('A codificação do arquivo é: {0}, com {1:.0f}% de certeza.'.format(result['encoding'],result['confidence']*100))"
   ]
  },
  {
   "cell_type": "code",
   "execution_count": 3,
   "metadata": {},
   "outputs": [],
   "source": [
    "#Importado o arquivo:\n",
    "df = pd.read_csv('ks-projects-201612.csv', encoding = 'Windows-1252', low_memory = False)"
   ]
  },
  {
   "cell_type": "code",
   "execution_count": 4,
   "metadata": {},
   "outputs": [
    {
     "name": "stdout",
     "output_type": "stream",
     "text": [
      "O Dataframe tem 323750 linhas por 17 colunas.\n"
     ]
    }
   ],
   "source": [
    "#Decobrindo o tamanho do dataframe:\n",
    "linhas,colunas = df.shape\n",
    "print(\"O Dataframe tem {0} linhas por {1} colunas.\".format(linhas,colunas))"
   ]
  },
  {
   "cell_type": "markdown",
   "metadata": {},
   "source": [
    "\n",
    "#### Preparando o dataframe para ser analisado:\n",
    "\n",
    "Vamos limpar o dataframe para nao ter complicações mais tarde  na hora de fazer as análises."
   ]
  },
  {
   "cell_type": "code",
   "execution_count": 5,
   "metadata": {},
   "outputs": [],
   "source": [
    "#Removendo os espaços em branco dos nomes das colunas:\n",
    "df.columns = [espaços.strip() for espaços in df.columns.tolist()]"
   ]
  },
  {
   "cell_type": "code",
   "execution_count": 6,
   "metadata": {},
   "outputs": [
    {
     "name": "stdout",
     "output_type": "stream",
     "text": [
      "Valores nulos na coluna \"name\": True \n",
      "Valores nulos na coluna \"category\": True \n",
      "Valores nulos na coluna \"usd pledged\": True\n"
     ]
    }
   ],
   "source": [
    "#Procurando por valores nulos que podem causar problemas posteriores:\n",
    "print('Valores nulos na coluna \"name\":', df[\"name\"].isnull().any(),\n",
    "      '\\nValores nulos na coluna \"category\":', df[\"category\"].isnull().any(),\n",
    "      '\\nValores nulos na coluna \"usd pledged\":', df[\"usd pledged\"].isnull().any())"
   ]
  },
  {
   "cell_type": "code",
   "execution_count": 7,
   "metadata": {},
   "outputs": [
    {
     "data": {
      "text/html": [
       "<div>\n",
       "<style scoped>\n",
       "    .dataframe tbody tr th:only-of-type {\n",
       "        vertical-align: middle;\n",
       "    }\n",
       "\n",
       "    .dataframe tbody tr th {\n",
       "        vertical-align: top;\n",
       "    }\n",
       "\n",
       "    .dataframe thead th {\n",
       "        text-align: right;\n",
       "    }\n",
       "</style>\n",
       "<table border=\"1\" class=\"dataframe\">\n",
       "  <thead>\n",
       "    <tr style=\"text-align: right;\">\n",
       "      <th></th>\n",
       "      <th>ID</th>\n",
       "      <th>name</th>\n",
       "      <th>category</th>\n",
       "      <th>main_category</th>\n",
       "      <th>currency</th>\n",
       "      <th>deadline</th>\n",
       "      <th>goal</th>\n",
       "      <th>launched</th>\n",
       "      <th>pledged</th>\n",
       "      <th>state</th>\n",
       "      <th>backers</th>\n",
       "      <th>country</th>\n",
       "      <th>usd pledged</th>\n",
       "      <th>Unnamed: 13</th>\n",
       "      <th>Unnamed: 14</th>\n",
       "      <th>Unnamed: 15</th>\n",
       "      <th>Unnamed: 16</th>\n",
       "    </tr>\n",
       "  </thead>\n",
       "  <tbody>\n",
       "    <tr>\n",
       "      <th>15991</th>\n",
       "      <td>1094354242</td>\n",
       "      <td>Muffler Men: One Hand Up, One Hand Down</td>\n",
       "      <td>Documentary</td>\n",
       "      <td>Film &amp; Video</td>\n",
       "      <td>USD</td>\n",
       "      <td>2011-09-02 05:59:00</td>\n",
       "      <td>30000</td>\n",
       "      <td>2011-07-20 19:58:50</td>\n",
       "      <td>4295</td>\n",
       "      <td>failed</td>\n",
       "      <td>65</td>\n",
       "      <td>US</td>\n",
       "      <td>4295</td>\n",
       "      <td>NaN</td>\n",
       "      <td>NaN</td>\n",
       "      <td>NaN</td>\n",
       "      <td>NaN</td>\n",
       "    </tr>\n",
       "    <tr>\n",
       "      <th>285049</th>\n",
       "      <td>767601834</td>\n",
       "      <td>Awkward Moments Need Love Too (Canceled)</td>\n",
       "      <td>Art</td>\n",
       "      <td>Art</td>\n",
       "      <td>USD</td>\n",
       "      <td>2010-07-02 05:59:00</td>\n",
       "      <td>3500</td>\n",
       "      <td>2010-05-28 12:14:53</td>\n",
       "      <td>50</td>\n",
       "      <td>canceled</td>\n",
       "      <td>2</td>\n",
       "      <td>US</td>\n",
       "      <td>50</td>\n",
       "      <td>NaN</td>\n",
       "      <td>NaN</td>\n",
       "      <td>NaN</td>\n",
       "      <td>NaN</td>\n",
       "    </tr>\n",
       "  </tbody>\n",
       "</table>\n",
       "</div>"
      ],
      "text/plain": [
       "                ID                                      name     category  \\\n",
       "15991   1094354242   Muffler Men: One Hand Up, One Hand Down  Documentary   \n",
       "285049   767601834  Awkward Moments Need Love Too (Canceled)          Art   \n",
       "\n",
       "       main_category currency             deadline   goal  \\\n",
       "15991   Film & Video      USD  2011-09-02 05:59:00  30000   \n",
       "285049           Art      USD  2010-07-02 05:59:00   3500   \n",
       "\n",
       "                   launched pledged     state backers country usd pledged  \\\n",
       "15991   2011-07-20 19:58:50    4295    failed      65      US        4295   \n",
       "285049  2010-05-28 12:14:53      50  canceled       2      US          50   \n",
       "\n",
       "       Unnamed: 13 Unnamed: 14 Unnamed: 15  Unnamed: 16  \n",
       "15991          NaN         NaN         NaN          NaN  \n",
       "285049         NaN         NaN         NaN          NaN  "
      ]
     },
     "execution_count": 7,
     "metadata": {},
     "output_type": "execute_result"
    }
   ],
   "source": [
    "#Removendo os valores nulos enncontrados:\n",
    "df = df.dropna(axis=0, subset=['name','category','usd pledged'])\n",
    "df.sample(2)"
   ]
  },
  {
   "cell_type": "markdown",
   "metadata": {},
   "source": [
    "#### Conferindo as colunas do dataframe:\n",
    "O dataframe possui 4 colunas sem nome, vamos checar se elas tem algum conteudo:"
   ]
  },
  {
   "cell_type": "code",
   "execution_count": 8,
   "metadata": {},
   "outputs": [
    {
     "name": "stdout",
     "output_type": "stream",
     "text": [
      "A quantidade de valores nulos na coluna 14 é: 99.8058% \n",
      "A quantidade de valores nulos na coluna 15 é: 99.9962% \n",
      "A quantidade de valores nulos na coluna 16 é: 99.9987% \n",
      "A quantidade de valores nulos na coluna 17 é: 99.9997%\n"
     ]
    }
   ],
   "source": [
    "#Descobrindo quantidade de linhas com valores nulos nas colunas sem nome:\n",
    "Unnamed_Colums_Null = [df['Unnamed: 13'].isna().sum(),df['Unnamed: 14'].isna().sum(),df['Unnamed: 15'].isna().sum(),df['Unnamed: 16'].isna().sum()]\n",
    "Unnamed_Colums_Not_Null = [df['Unnamed: 13'].value_counts().sum(),df['Unnamed: 14'].value_counts().sum(),df['Unnamed: 15'].value_counts().sum(),df['Unnamed: 16'].value_counts().sum()]\n",
    "\n",
    "Valores13 = 100-(df['Unnamed: 13'].value_counts().sum()/df['Unnamed: 13'].isna().sum()*100)\n",
    "Valores14 = 100-(df['Unnamed: 14'].value_counts().sum()/df['Unnamed: 14'].isna().sum()*100)\n",
    "Valores15 = 100-(df['Unnamed: 15'].value_counts().sum()/df['Unnamed: 15'].isna().sum()*100)\n",
    "Valores16 = 100-(df['Unnamed: 16'].value_counts().sum()/df['Unnamed: 16'].isna().sum()*100)\n",
    "\n",
    "print(  'A quantidade de valores nulos na coluna 14 é: {:.4f}%'.format(Valores13),\n",
    "      '\\nA quantidade de valores nulos na coluna 15 é: {:.4f}%'.format(Valores14),\n",
    "      '\\nA quantidade de valores nulos na coluna 16 é: {:.4f}%'.format(Valores15),\n",
    "      '\\nA quantidade de valores nulos na coluna 17 é: {:.4f}%'.format(Valores16))"
   ]
  },
  {
   "cell_type": "code",
   "execution_count": 9,
   "metadata": {},
   "outputs": [
    {
     "data": {
      "text/html": [
       "<div>\n",
       "<style scoped>\n",
       "    .dataframe tbody tr th:only-of-type {\n",
       "        vertical-align: middle;\n",
       "    }\n",
       "\n",
       "    .dataframe tbody tr th {\n",
       "        vertical-align: top;\n",
       "    }\n",
       "\n",
       "    .dataframe thead th {\n",
       "        text-align: right;\n",
       "    }\n",
       "</style>\n",
       "<table border=\"1\" class=\"dataframe\">\n",
       "  <thead>\n",
       "    <tr style=\"text-align: right;\">\n",
       "      <th></th>\n",
       "      <th>ID</th>\n",
       "      <th>name</th>\n",
       "      <th>category</th>\n",
       "      <th>main_category</th>\n",
       "      <th>currency</th>\n",
       "      <th>deadline</th>\n",
       "      <th>goal</th>\n",
       "      <th>launched</th>\n",
       "      <th>pledged</th>\n",
       "      <th>state</th>\n",
       "      <th>backers</th>\n",
       "      <th>country</th>\n",
       "      <th>usd pledged</th>\n",
       "    </tr>\n",
       "  </thead>\n",
       "  <tbody>\n",
       "    <tr>\n",
       "      <th>214649</th>\n",
       "      <td>345672423</td>\n",
       "      <td>BitchNeedsCoffee | Custom Coffee Mugs</td>\n",
       "      <td>Crafts</td>\n",
       "      <td>Crafts</td>\n",
       "      <td>USD</td>\n",
       "      <td>2015-07-04 15:01:51</td>\n",
       "      <td>3000</td>\n",
       "      <td>2015-06-04 15:01:51</td>\n",
       "      <td>25</td>\n",
       "      <td>failed</td>\n",
       "      <td>1</td>\n",
       "      <td>US</td>\n",
       "      <td>25</td>\n",
       "    </tr>\n",
       "    <tr>\n",
       "      <th>1059</th>\n",
       "      <td>1006247883</td>\n",
       "      <td>hello (Canceled)</td>\n",
       "      <td>Faith</td>\n",
       "      <td>Music</td>\n",
       "      <td>USD</td>\n",
       "      <td>2016-03-16 07:02:07</td>\n",
       "      <td>15000</td>\n",
       "      <td>2016-01-16 08:02:07</td>\n",
       "      <td>47</td>\n",
       "      <td>canceled</td>\n",
       "      <td>2</td>\n",
       "      <td>US</td>\n",
       "      <td>47</td>\n",
       "    </tr>\n",
       "  </tbody>\n",
       "</table>\n",
       "</div>"
      ],
      "text/plain": [
       "                ID                                   name category  \\\n",
       "214649   345672423  BitchNeedsCoffee | Custom Coffee Mugs   Crafts   \n",
       "1059    1006247883                       hello (Canceled)    Faith   \n",
       "\n",
       "       main_category currency             deadline   goal  \\\n",
       "214649        Crafts      USD  2015-07-04 15:01:51   3000   \n",
       "1059           Music      USD  2016-03-16 07:02:07  15000   \n",
       "\n",
       "                   launched pledged     state backers country usd pledged  \n",
       "214649  2015-06-04 15:01:51      25    failed       1      US          25  \n",
       "1059    2016-01-16 08:02:07      47  canceled       2      US          47  "
      ]
     },
     "execution_count": 9,
     "metadata": {},
     "output_type": "execute_result"
    }
   ],
   "source": [
    "#Removendo as ultimas 4 colunas (de valores nulos):\n",
    "df = df.iloc[:,:-4]\n",
    "df.sample(2)"
   ]
  },
  {
   "cell_type": "markdown",
   "metadata": {},
   "source": [
    "***\n",
    "\n",
    "#### Transformando categorias qualiativas em quantiativas:\n",
    "\n",
    "O método usado para efetuar essa conversão é chamado de **One Hot Encoding**, que transforma variaveis categóricas em vetores binarios. Tal método transforma todas as variaveis em 0 menos a do item analisado, desse modo permitindo que sejam feitam análises em cima desse dados.\n",
    "<br>\n",
    "<br>"
   ]
  },
  {
   "cell_type": "code",
   "execution_count": 10,
   "metadata": {},
   "outputs": [],
   "source": [
    "#Função para chamar o get_dummies e remover a coluna base:\n",
    "def dummify(data, column_name):\n",
    "    df1 = data.copy()\n",
    "    df2 = pd.concat([df1.drop(column_name, axis=1), pd.get_dummies(data[column_name], prefix=column_name)], axis=1)\n",
    "    return df2\n",
    "\n",
    "#Transformando \"category\" em uma variável quantitativa:\n",
    "DF = dummify(df, \"category\")\n",
    "\n",
    "\n",
    "#Transformando \"currency\" em uma variável quantitativa:\n",
    "df[~df.currency.str.contains('\\A[a-z]{3}\\Z', case=False)].currency.value_counts();\n",
    "replace = df[~df.currency.str.contains('^[a-z]{3}$', case=False)].currency.unique().tolist()\n",
    "df.loc[:,'currency'] = df.currency.replace(to_replace=replace, value='Não especificado')\n",
    "#Transformando \"currency\" em uma variável quantitativa:\n",
    "DF = dummify(DF, \"currency\")\n",
    "\n",
    "\n",
    "#Transformando \"country\" em uma variável quantitativa:\n",
    "df[~df.country.str.contains('^[A-Z]{2}$', case=False)].country.value_counts()\n",
    "replace = df[~df.country.str.contains('^[A-Z]{2}$', case=False)].country.unique().tolist()\n",
    "df.loc[:,'country'] = df.country.replace(to_replace=replace, value='Não especificado')\n",
    "#Transformando \"country\" em uma variável quantitativa:\n",
    "DF = dummify(DF, \"country\")\n",
    "\n",
    "\n",
    "#Transformando \"state\" em uma variável quantitativa:\n",
    "DF1 = dummify(df, \"state\")"
   ]
  },
  {
   "cell_type": "markdown",
   "metadata": {},
   "source": [
    "#### Vamos criar um dataframe com as features desejadas:"
   ]
  },
  {
   "cell_type": "code",
   "execution_count": 11,
   "metadata": {},
   "outputs": [],
   "source": [
    "#Adequando as colunas que serão usadas pelos modelos de predição:\n",
    "DF1 = DF1.iloc[:,414:]\n",
    "ddf = DF.join(DF1, how=\"inner\")\n",
    "ddf = ddf.drop(columns=['state', 'country_failed','country_successful'])\n",
    "ddf = ddf.iloc[:,9:]"
   ]
  },
  {
   "cell_type": "markdown",
   "metadata": {},
   "source": [
    "Foi criado um dataframe novo para ser usado posterioremente pelos modelos de predição, todas variáveis categoricas foram convertidas em quantitativas. Essas foram adicionadas no final de cada dataframe por meio de novas colunas."
   ]
  },
  {
   "cell_type": "markdown",
   "metadata": {},
   "source": [
    "***\n",
    "#### Vamos adaptar o formato das datas para permitir que sejam análisadas:\n",
    "\n",
    "Para que se seja possível análisar os dados relacionados com as datas é necessário que seja feita uma conversão do conteúdo para o formato **datetime**, que faz parte da biblioteca pandas que é usada para análise de dados em python. "
   ]
  },
  {
   "cell_type": "code",
   "execution_count": 12,
   "metadata": {},
   "outputs": [],
   "source": [
    "#Transformando o formato dos elementos das colunas de tempo em datetime:\n",
    "ddf[\"deadline\"] = pd.to_datetime(df[\"deadline\"], errors='coerce')\n",
    "ddf[\"launched\"] = pd.to_datetime(df[\"launched\"], errors='coerce')\n",
    "\n",
    "#Eliminado os NANs criados pela conversão:\n",
    "ddf = ddf.dropna()"
   ]
  },
  {
   "cell_type": "code",
   "execution_count": 13,
   "metadata": {},
   "outputs": [],
   "source": [
    "#Criando as listas com datas refrentes aos projetos:\n",
    "lista = ddf.deadline.tolist()\n",
    "lista2= ddf.launched.tolist()\n",
    "lista_dia_abertura=[]\n",
    "lista_mes_abertura=[]\n",
    "lista_ano_abertura=[]\n",
    "lista_dia_encerramento=[]\n",
    "lista_mes_encerramento=[]\n",
    "lista_ano_encerramento=[]\n",
    "lista_duracao=[]\n",
    "\n",
    "#Adicionando as informações de abertura na sua lista:\n",
    "for e in lista2:\n",
    "    lista_dia_abertura.append(e.day)\n",
    "    lista_mes_abertura.append(e.month)\n",
    "    lista_ano_abertura.append(e.year)\n",
    "\n",
    "#Adicionando as informações de encerramento na sua lista:\n",
    "for e in lista:\n",
    "    lista_dia_encerramento.append(e.day)\n",
    "    lista_mes_encerramento.append(e.month)\n",
    "    lista_ano_encerramento.append(e.year)\n",
    "\n",
    "#Atribuindo as informações adquiridas em colunas no dataframe: \n",
    "ddf[\"Dia de abertura\"]=lista_dia_abertura\n",
    "ddf[\"Mês de abertura\"]=lista_mes_abertura\n",
    "ddf[\"Ano de abertura\"]=lista_ano_abertura    \n",
    "ddf['Dia de encerramento']=lista_dia_encerramento\n",
    "ddf[\"Mês de encerramento\"]=lista_mes_encerramento\n",
    "ddf[\"Ano de encerramento\"]=lista_ano_encerramento\n",
    "\n",
    "#Adicionando a duração de cada projeto na sua lista:\n",
    "for e in range(len(lista)):\n",
    "    lista_duracao.append(lista[e]-lista2[e])\n",
    "\n",
    "#Adicionando a duração de cada projeto no dataframe:\n",
    "ddf[\"Duração da Arrecadação\"]=lista_duracao\n",
    "ddf[\"Duração da Arrecadação\"] = pd.to_numeric(ddf[\"Duração da Arrecadação\"], errors='coerce')\n",
    "ddf = ddf.drop(columns=[\"Dia de abertura\",\"Mês de abertura\",\"Ano de abertura\",'Dia de encerramento',\n",
    "                                \"Mês de encerramento\",\"Ano de encerramento\",'deadline','launched'])\n",
    "ddf = ddf.dropna()"
   ]
  },
  {
   "cell_type": "markdown",
   "metadata": {},
   "source": [
    "#### Vamos criar um dataframe novo sem as informações de sucesso:\n",
    "\n",
    "Para conseguirmos prever quais projetos tem maior chance de serem bem sucedidos é necessario remover essa imformação do dataframe que será usado para esse experimento."
   ]
  },
  {
   "cell_type": "code",
   "execution_count": 14,
   "metadata": {},
   "outputs": [],
   "source": [
    "#Eliminando todas colunas relacionadas ao \"state\" do projeto:\n",
    "dff = ddf.drop(columns=['state_successful','state_canceled','state_failed','state_live','state_suspended'])\n",
    "dff = dff.dropna()"
   ]
  },
  {
   "cell_type": "markdown",
   "metadata": {},
   "source": [
    "\n",
    "\n",
    "***\n",
    "## Análise Exploratória:"
   ]
  },
  {
   "cell_type": "markdown",
   "metadata": {},
   "source": [
    "\n",
    "### Análise das categorias principais mais recorrentes"
   ]
  },
  {
   "cell_type": "code",
   "execution_count": 15,
   "metadata": {},
   "outputs": [
    {
     "name": "stdout",
     "output_type": "stream",
     "text": [
      "O dataset possui 770 categorias, sendo 119 categorias principais.\n"
     ]
    }
   ],
   "source": [
    "print(\"O dataset possui {0} categorias, sendo {1} categorias principais.\".format(len(df.category.unique()),len(df.main_category.unique())))"
   ]
  },
  {
   "cell_type": "code",
   "execution_count": 16,
   "metadata": {},
   "outputs": [],
   "source": [
    "#Encontrando as 10 categorias principais com maior número de projetos:\n",
    "Top_Main_categories = df.main_category.value_counts().head(10)"
   ]
  },
  {
   "cell_type": "code",
   "execution_count": 17,
   "metadata": {},
   "outputs": [
    {
     "data": {
      "image/png": "[encoded data removed]",
      "text/plain": [
       "<Figure size 480x320 with 1 Axes>"
      ]
     },
     "metadata": {
      "needs_background": "light"
     },
     "output_type": "display_data"
    }
   ],
   "source": [
    "#Ploatndo um gráfico com as categorias principais com mais projetos:\n",
    "fig = plt.figure(dpi=80)\n",
    "ax  = sns.barplot(x = Top_Main_categories.values, y = Top_Main_categories.index, palette=\"BuGn_r\", data = df)\n",
    "plt.xlabel(\"Projetos\")\n",
    "plt.title(\"\\nCategorias principais com o maior \\nnúmero de projetos\")\n",
    "plt.show()"
   ]
  },
  {
   "cell_type": "markdown",
   "metadata": {},
   "source": [
    "### Análise das categorias mais recorrentes:"
   ]
  },
  {
   "cell_type": "code",
   "execution_count": 18,
   "metadata": {},
   "outputs": [],
   "source": [
    "#Encontrando as 10 categorias com maior número de projetos:\n",
    "Top_categories = df.category.value_counts().head(10)"
   ]
  },
  {
   "cell_type": "code",
   "execution_count": 19,
   "metadata": {},
   "outputs": [
    {
     "data": {
      "image/png": "[encoded data removed]",
      "text/plain": [
       "<Figure size 480x320 with 1 Axes>"
      ]
     },
     "metadata": {
      "needs_background": "light"
     },
     "output_type": "display_data"
    }
   ],
   "source": [
    "#Ploatndo um gráfico com as categorias principais com mais projetos:\n",
    "fig = plt.figure(dpi = 80)\n",
    "ax  = sns.barplot(x = Top_categories.values, y = Top_categories.index, palette=\"Blues_r\", data = df)\n",
    "plt.xlabel(\"Projetos\")\n",
    "plt.title(\"\\nCategorias com o maior número de projetos\")\n",
    "plt.show()"
   ]
  },
  {
   "cell_type": "markdown",
   "metadata": {},
   "source": [
    "### Análise da taxa de sucesso entre as categorias principais:"
   ]
  },
  {
   "cell_type": "code",
   "execution_count": 20,
   "metadata": {},
   "outputs": [],
   "source": [
    "Top_Main_categories = dict(Top_Main_categories)\n",
    "\n",
    "#calculando porcentagem de projetos que atingiram a meta por categoria:\n",
    "def calcula_prob(categoria):\n",
    "    return len(df[(df.main_category==categoria)&(df.state == \"successful\")])/len(df[(df.main_category == categoria)])\n",
    "\n",
    "#criando listas para atribuir os valores da porcentagem dos projetos bem sucedidos:\n",
    "probabilidade_categoria = []\n",
    "porcentagem_categoria = []\n",
    "\n",
    "#Atribuindo os nomes das categorias a uma variável em forma de lista:\n",
    "nome_categoria = list(Top_Main_categories.keys())"
   ]
  },
  {
   "cell_type": "code",
   "execution_count": 21,
   "metadata": {},
   "outputs": [],
   "source": [
    "#Criando um loop para atribuir os valores da porcentagem na lista:\n",
    "for i in Top_Main_categories:\n",
    "    probabilidade_categoria.append(calcula_prob(i))\n",
    "\n",
    "for e in probabilidade_categoria:\n",
    "    porcentagem_categoria.append(e*100)"
   ]
  },
  {
   "cell_type": "code",
   "execution_count": 22,
   "metadata": {},
   "outputs": [
    {
     "data": {
      "image/png": "[encoded data removed]",
      "text/plain": [
       "<Figure size 480x320 with 1 Axes>"
      ]
     },
     "metadata": {
      "needs_background": "light"
     },
     "output_type": "display_data"
    }
   ],
   "source": [
    "#Plotando o gráfico da porcentagem de sucesso para cada categoria principal:\n",
    "fig = plt.figure(dpi=80)\n",
    "ax  = sns.barplot(x = porcentagem_categoria, y = nome_categoria, palette= \"Set2\", data = df)\n",
    "plt.xlabel(\"Porcentagem de projetos que atingiram a meta(%)\")\n",
    "plt.title(\"\\nCategorias principais com o maior número de \\nprojetos que atingiram a meta\")\n",
    "plt.show()"
   ]
  },
  {
   "cell_type": "markdown",
   "metadata": {},
   "source": [
    "Ao análisar a quantidade de projetos nas categorias principais e nas gerais é possivel perceber algumas delas se repetem, assim estas têm as maiores porcentagens de sucesso dentre as categorias com as maiores quantidades de projetos, tirando \"theater\"que nao se repete explicitamente mas tem a maior taxa de sucesso."
   ]
  },
  {
   "cell_type": "markdown",
   "metadata": {},
   "source": [
    "<br>\n",
    "\n",
    "### Análise dos paises de maior número de projetos"
   ]
  },
  {
   "cell_type": "code",
   "execution_count": 23,
   "metadata": {},
   "outputs": [
    {
     "data": {
      "image/png": "[encoded data removed]",
      "text/plain": [
       "<Figure size 480x320 with 1 Axes>"
      ]
     },
     "metadata": {
      "needs_background": "light"
     },
     "output_type": "display_data"
    }
   ],
   "source": [
    "Top_Country = df.country.value_counts().head(5)\n",
    "fig = plt.figure(dpi = 80)\n",
    "ax  = sns.barplot(x = Top_Country.values, y = Top_Country.index, palette=\"BuGn_r\", data = df);\n",
    "plt.title(\"\\nQuantidade de projetos por país\")\n",
    "plt.ylabel(\"Paíes\")\n",
    "plt.xlabel(\"\\nQuantidade de projetos\")\n",
    "plt.show()"
   ]
  },
  {
   "cell_type": "markdown",
   "metadata": {},
   "source": [
    "<br>\n",
    "\n",
    "### Análise unidades monetárias mais utilizadas em projetos do kickstarter:"
   ]
  },
  {
   "cell_type": "code",
   "execution_count": 24,
   "metadata": {},
   "outputs": [
    {
     "data": {
      "text/plain": [
       "USD                 257562\n",
       "GBP                  27508\n",
       "CAD                  11992\n",
       "EUR                  11369\n",
       "AUD                   6236\n",
       "SEK                   1269\n",
       "NZD                   1136\n",
       "DKK                    825\n",
       "Não especificado       564\n",
       "NOK                    526\n",
       "CHF                    471\n",
       "MXN                    214\n",
       "SGD                    119\n",
       "HKD                     97\n",
       "Art                     63\n",
       "Name: currency, dtype: int64"
      ]
     },
     "execution_count": 24,
     "metadata": {},
     "output_type": "execute_result"
    }
   ],
   "source": [
    "currency_type = df['currency'].value_counts();\n",
    "currency_type"
   ]
  },
  {
   "cell_type": "markdown",
   "metadata": {},
   "source": [
    "**O dolar americano esta na frente das outras moedas, seguido pela libra esterlina e pelo dolar canadense.**\n",
    "\n"
   ]
  },
  {
   "cell_type": "markdown",
   "metadata": {},
   "source": [
    "<br>\n",
    "\n",
    "## Quantia prometida para cada projeto (pledged):"
   ]
  },
  {
   "cell_type": "code",
   "execution_count": 25,
   "metadata": {},
   "outputs": [
    {
     "name": "stderr",
     "output_type": "stream",
     "text": [
      "/Users/guilherme/anaconda3/lib/python3.7/site-packages/ipykernel_launcher.py:8: RuntimeWarning: divide by zero encountered in log10\n",
      "  \n"
     ]
    }
   ],
   "source": [
    "#Transformando 'pledged' que até o momento é um objeto em uma variável numérica:\n",
    "df['pledged'] = pd.to_numeric(df.pledged, downcast='integer', errors='coerce')\n",
    "\n",
    "#Preenchendo os NANs deixados pelo coerce:\n",
    "df = df.fillna(0)\n",
    "\n",
    "#Atribuindo os valores de pledged no dataframe que será analisado:\n",
    "ddf['pledged'] = np.log10(df.pledged)\n",
    "\n",
    "#Restringindo os valores de pledged que serão analisados:\n",
    "df = df[df.pledged > 0]"
   ]
  },
  {
   "cell_type": "code",
   "execution_count": 26,
   "metadata": {},
   "outputs": [
    {
     "data": {
      "image/png": "[encoded data removed]",
      "text/plain": [
       "<Figure size 432x288 with 1 Axes>"
      ]
     },
     "metadata": {
      "needs_background": "light"
     },
     "output_type": "display_data"
    }
   ],
   "source": [
    "#Plotando o histogtrama de pledged:\n",
    "plt.hist(np.log10(df.pledged), bins=10, color='lightblue');\n",
    "\n",
    "plt.title('\\nDistribuição de apoiadores')\n",
    "plt.xlabel('Log pledged')\n",
    "plt.show()"
   ]
  },
  {
   "cell_type": "markdown",
   "metadata": {},
   "source": [
    "### Análise da quantidade de apoiadores dos projetos:"
   ]
  },
  {
   "cell_type": "code",
   "execution_count": 27,
   "metadata": {},
   "outputs": [],
   "source": [
    "#Transformando 'backers' que até o momento é um objeto em uma variável numérica:\n",
    "df['backers'] = pd.to_numeric(df.backers, downcast='integer', errors='coerce')\n",
    "\n",
    "#Restringindo os valores de backers que serão analisados:\n",
    "df = df[(df.backers >=1)]"
   ]
  },
  {
   "cell_type": "code",
   "execution_count": 28,
   "metadata": {},
   "outputs": [
    {
     "data": {
      "image/png": "[encoded data removed]",
      "text/plain": [
       "<Figure size 432x288 with 1 Axes>"
      ]
     },
     "metadata": {
      "needs_background": "light"
     },
     "output_type": "display_data"
    }
   ],
   "source": [
    "#Plotando o histogtrama de Backers:\n",
    "plt.hist(np.log(df.backers), bins=10, color='Darkred');\n",
    "\n",
    "plt.title('\\nDistribuição de apoiadores')\n",
    "plt.xlabel('Log backers')\n",
    "plt.show()"
   ]
  },
  {
   "cell_type": "markdown",
   "metadata": {},
   "source": [
    "### Análise dos objetivos dos projetos:"
   ]
  },
  {
   "cell_type": "code",
   "execution_count": 29,
   "metadata": {},
   "outputs": [
    {
     "name": "stderr",
     "output_type": "stream",
     "text": [
      "/Users/guilherme/anaconda3/lib/python3.7/site-packages/ipykernel_launcher.py:8: RuntimeWarning: divide by zero encountered in log10\n",
      "  \n"
     ]
    }
   ],
   "source": [
    "#Transformando 'goal' que até o momento é um objeto em uma variável numérica:\n",
    "df['goal'] = pd.to_numeric(df.goal, downcast='float', errors='coerce')\n",
    "\n",
    "#Preenchendo os NANs deixados pelo coerce:\n",
    "df = df.fillna(value=0)\n",
    "\n",
    "#Atribuindo os valores de goal no dataframe que será analisado:\n",
    "ddf['goal'] = np.log10(df.goal)\n",
    "\n",
    "df = df[(df.goal > 0)]"
   ]
  },
  {
   "cell_type": "code",
   "execution_count": 30,
   "metadata": {},
   "outputs": [
    {
     "data": {
      "image/png": "[encoded data removed]",
      "text/plain": [
       "<Figure size 432x288 with 1 Axes>"
      ]
     },
     "metadata": {
      "needs_background": "light"
     },
     "output_type": "display_data"
    }
   ],
   "source": [
    "#Plotando a distribuição do goal:\n",
    "g = sns.distplot(np.log10(df.goal), kde=False, bins=30)\n",
    "\n",
    "plt.title('\\nDistribuição do goal')\n",
    "plt.xlabel('Log goal')\n",
    "plt.show()"
   ]
  },
  {
   "cell_type": "code",
   "execution_count": 31,
   "metadata": {},
   "outputs": [
    {
     "data": {
      "image/png": "[encoded data removed]",
      "text/plain": [
       "<Figure size 432x288 with 1 Axes>"
      ]
     },
     "metadata": {
      "needs_background": "light"
     },
     "output_type": "display_data"
    }
   ],
   "source": [
    "#Conferindo a destribuição de goal:\n",
    "probplot(np.log(df.goal), dist=\"norm\", plot=plt);"
   ]
  },
  {
   "cell_type": "markdown",
   "metadata": {},
   "source": [
    "\n",
    "\n",
    "## Modelando:"
   ]
  },
  {
   "cell_type": "markdown",
   "metadata": {},
   "source": [
    "### implementando o classificador:\n",
    "\n",
    "Esse classificador pega algumas categorias, e com base nelas tenta atingir um alvo definido previamente, por meio de ramificações, que, calculando probabilidades, vão ficando cada vez menores, e mais detalhadas."
   ]
  },
  {
   "cell_type": "code",
   "execution_count": 32,
   "metadata": {},
   "outputs": [],
   "source": [
    "from sklearn.metrics import accuracy_score\n",
    "from sklearn.tree import DecisionTreeClassifier"
   ]
  },
  {
   "cell_type": "code",
   "execution_count": 33,
   "metadata": {},
   "outputs": [
    {
     "name": "stdout",
     "output_type": "stream",
     "text": [
      "A acurácia é de 66.49%\n"
     ]
    }
   ],
   "source": [
    "#Dividindo os dados do dataframe em teste e treino:\n",
    "X_train, X_test, y_train, y_test = train_test_split(dff, ddf['state_successful'], test_size = 0.33, random_state = 0)                           \n",
    "\n",
    "#Chamando o classificador:\n",
    "clf_gini = DecisionTreeClassifier(criterion = \"gini\", random_state = 100, \n",
    "                               max_depth=8, min_samples_leaf=4)\n",
    "#Fazendo um fit nos dados de treino:\n",
    "clf_gini.fit(X_train, y_train)   \n",
    "\n",
    "y_pred = clf_gini.predict(X_test)\n",
    "\n",
    "#Descobrindo a acurácia do classificador:\n",
    "acc = accuracy_score(y_test, y_pred)\n",
    "\n",
    "acc = acc*100\n",
    "print(\"A acurácia é de {:.2f}%\".format(acc))"
   ]
  },
  {
   "cell_type": "markdown",
   "metadata": {},
   "source": [
    "### Implementando o RandomForest:\n",
    "\n",
    "Este classificador é um estimador que se ajusta a vários classificadores de árvore de decisão em várias subamostras do conjunto de dados e usa a média para melhorar a precisão preditiva e controlar o ajuste excessivo. O tamanho da subamostra é sempre igual ao tamanho da amostra de entrada original, mas as amostras são desenhadas com substituição se bootstrap for usado."
   ]
  },
  {
   "cell_type": "code",
   "execution_count": 34,
   "metadata": {},
   "outputs": [
    {
     "name": "stderr",
     "output_type": "stream",
     "text": [
      "/Users/guilherme/anaconda3/lib/python3.7/site-packages/sklearn/ensemble/weight_boosting.py:29: DeprecationWarning: numpy.core.umath_tests is an internal NumPy module and should not be imported. It will be removed in a future NumPy release.\n",
      "  from numpy.core.umath_tests import inner1d\n"
     ]
    }
   ],
   "source": [
    "from sklearn.ensemble import RandomForestClassifier\n",
    "from sklearn.model_selection import train_test_split\n",
    "import warnings\n",
    "\n",
    "warnings.filterwarnings(\"ignore\", category=DeprecationWarning)"
   ]
  },
  {
   "cell_type": "code",
   "execution_count": 35,
   "metadata": {},
   "outputs": [
    {
     "name": "stdout",
     "output_type": "stream",
     "text": [
      "A acurácia é de: 66.20%\n"
     ]
    }
   ],
   "source": [
    "RANDOM_SEED = 42\n",
    "\n",
    "np.random.seed(RANDOM_SEED)\n",
    "\n",
    "#Dividindo os dados do dataframe em teste e treino:\n",
    "X_train, X_test, y_train, y_test = train_test_split(dff, ddf['state_successful'], test_size=0.33, random_state=RANDOM_SEED)\n",
    "\n",
    "X_train.shape, y_train.shape, X_test.shape, y_test.shape\n",
    "\n",
    "x_logistica = np.linspace(-10, 10, 500)\n",
    "y_logistica = 1/(1 + np.exp(-x_logistica))\n",
    "#Chamando o RandomForestClassifier:\n",
    "model = RandomForestClassifier()\n",
    "model.fit(X_train, y_train)\n",
    "y_pred = model.predict(X_test)\n",
    "\n",
    "#Descobrindo a acurácia:\n",
    "print('A acurácia é de: {:.2f}%'.format(accuracy_score(y_test, y_pred)*100))"
   ]
  },
  {
   "cell_type": "markdown",
   "metadata": {},
   "source": [
    "## Referências:\n",
    "\n",
    "- https://www.kaggle.com/kabure/kickstarter-interactive-explanatory-exploration\n",
    "- https://www.kaggle.com/rtatman/data-cleaning-challenge-character-encodings\n",
    "- https://www.kaggle.com/rtatman/data-cleaning-challenge-scale-and-normalize-data\n",
    "- https://www.kaggle.com/kabure/kickstarter-interactive-explanatory-exploration"
   ]
  }
 ],
 "metadata": {
  "kernelspec": {
   "display_name": "Python 3",
   "language": "python",
   "name": "python3"
  },
  "language_info": {
   "codemirror_mode": {
    "name": "ipython",
    "version": 3
   },
   "file_extension": ".py",
   "mimetype": "text/x-python",
   "name": "python",
   "nbconvert_exporter": "python",
   "pygments_lexer": "ipython3",
   "version": "3.7.0"
  }
 },
 "nbformat": 4,
 "nbformat_minor": 2
}
