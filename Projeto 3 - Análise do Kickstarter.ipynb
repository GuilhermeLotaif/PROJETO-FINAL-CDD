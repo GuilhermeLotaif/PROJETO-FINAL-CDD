{
 "cells": [
  {
   "cell_type": "markdown",
   "metadata": {},
   "source": [
    "# Projeto 3\n",
    "***\n",
    "\n",
    "### Análise de projetos no Kickstarter\n",
    "\n",
    "As análises feitas a seguir foram feitas a partir do seguinte dataset:\n",
    "\n",
    "- https://www.kaggle.com/kemical/kickstarter-projects\n",
    "\n",
    "**Objetivo deste estudo:** Descobrir a probabilidade de sucesso de um projeto no kickstarter."
   ]
  },
  {
   "cell_type": "code",
   "execution_count": 1,
   "metadata": {},
   "outputs": [],
   "source": [
    "#importando bibliotecas:\n",
    "import pandas as pd\n",
    "import matplotlib.pyplot as plt\n",
    "import numpy as np\n",
    "import seaborn as sns\n",
    "from scipy.stats import norm, probplot\n",
    "plt.style.use('ggplot')\n",
    "\n",
    "from sklearn.model_selection import train_test_split"
   ]
  },
  {
   "cell_type": "markdown",
   "metadata": {},
   "source": [
    "## Análise Exploratória:\n"
   ]
  },
  {
   "cell_type": "code",
   "execution_count": 2,
   "metadata": {},
   "outputs": [],
   "source": [
    "#Importado o arquivo:\n",
    "df = pd.read_csv('ks-projects-201612.csv', encoding='iso-8859-1', low_memory=False)"
   ]
  },
  {
   "cell_type": "code",
   "execution_count": 3,
   "metadata": {},
   "outputs": [
    {
     "name": "stdout",
     "output_type": "stream",
     "text": [
      "O Dataframe tem 323750 linhas por 17 colunas.\n"
     ]
    }
   ],
   "source": [
    "#Decobrindo o tamanho do dataset:\n",
    "linhas,colunas = df.shape\n",
    "print(\"O Dataframe tem {0} linhas por {1} colunas.\".format(linhas,colunas))"
   ]
  },
  {
   "cell_type": "markdown",
   "metadata": {},
   "source": [
    "\n",
    "#### Preparando o dataframe para ser analisado:\n",
    "\n",
    "Vamos limpar o database para nao ter complicacoes mais tarde  na hora de fazer as análises."
   ]
  },
  {
   "cell_type": "code",
   "execution_count": 4,
   "metadata": {},
   "outputs": [],
   "source": [
    "#Removendo os espaços em branco dos nomes das colunas:\n",
    "df.columns = [i.strip() for i in df.columns.tolist()]"
   ]
  },
  {
   "cell_type": "code",
   "execution_count": 5,
   "metadata": {},
   "outputs": [
    {
     "name": "stdout",
     "output_type": "stream",
     "text": [
      "Valores nulos na coluna \"name\": True \n",
      "Valores nulos na coluna \"category\": True \n",
      "Valores nulos na coluna \"usd pledged\": True\n"
     ]
    }
   ],
   "source": [
    "#Procurando por valores nulos que podem causar problemas posteriores:\n",
    "print('Valores nulos na coluna \"name\":', df[\"name\"].isnull().any(),\n",
    "      '\\nValores nulos na coluna \"category\":', df[\"category\"].isnull().any(),\n",
    "      '\\nValores nulos na coluna \"usd pledged\":', df[\"usd pledged\"].isnull().any())"
   ]
  },
  {
   "cell_type": "code",
   "execution_count": 6,
   "metadata": {},
   "outputs": [
    {
     "data": {
      "text/html": [
       "<div>\n",
       "<style scoped>\n",
       "    .dataframe tbody tr th:only-of-type {\n",
       "        vertical-align: middle;\n",
       "    }\n",
       "\n",
       "    .dataframe tbody tr th {\n",
       "        vertical-align: top;\n",
       "    }\n",
       "\n",
       "    .dataframe thead th {\n",
       "        text-align: right;\n",
       "    }\n",
       "</style>\n",
       "<table border=\"1\" class=\"dataframe\">\n",
       "  <thead>\n",
       "    <tr style=\"text-align: right;\">\n",
       "      <th></th>\n",
       "      <th>ID</th>\n",
       "      <th>name</th>\n",
       "      <th>category</th>\n",
       "      <th>main_category</th>\n",
       "      <th>currency</th>\n",
       "      <th>deadline</th>\n",
       "      <th>goal</th>\n",
       "      <th>launched</th>\n",
       "      <th>pledged</th>\n",
       "      <th>state</th>\n",
       "      <th>backers</th>\n",
       "      <th>country</th>\n",
       "      <th>usd pledged</th>\n",
       "      <th>Unnamed: 13</th>\n",
       "      <th>Unnamed: 14</th>\n",
       "      <th>Unnamed: 15</th>\n",
       "      <th>Unnamed: 16</th>\n",
       "    </tr>\n",
       "  </thead>\n",
       "  <tbody>\n",
       "    <tr>\n",
       "      <th>0</th>\n",
       "      <td>1000002330</td>\n",
       "      <td>The Songs of Adelaide &amp; Abullah</td>\n",
       "      <td>Poetry</td>\n",
       "      <td>Publishing</td>\n",
       "      <td>GBP</td>\n",
       "      <td>2015-10-09 11:36:00</td>\n",
       "      <td>1000</td>\n",
       "      <td>2015-08-11 12:12:28</td>\n",
       "      <td>0</td>\n",
       "      <td>failed</td>\n",
       "      <td>0</td>\n",
       "      <td>GB</td>\n",
       "      <td>0</td>\n",
       "      <td>NaN</td>\n",
       "      <td>NaN</td>\n",
       "      <td>NaN</td>\n",
       "      <td>NaN</td>\n",
       "    </tr>\n",
       "    <tr>\n",
       "      <th>1</th>\n",
       "      <td>1000004038</td>\n",
       "      <td>Where is Hank?</td>\n",
       "      <td>Narrative Film</td>\n",
       "      <td>Film &amp; Video</td>\n",
       "      <td>USD</td>\n",
       "      <td>2013-02-26 00:20:50</td>\n",
       "      <td>45000</td>\n",
       "      <td>2013-01-12 00:20:50</td>\n",
       "      <td>220</td>\n",
       "      <td>failed</td>\n",
       "      <td>3</td>\n",
       "      <td>US</td>\n",
       "      <td>220</td>\n",
       "      <td>NaN</td>\n",
       "      <td>NaN</td>\n",
       "      <td>NaN</td>\n",
       "      <td>NaN</td>\n",
       "    </tr>\n",
       "  </tbody>\n",
       "</table>\n",
       "</div>"
      ],
      "text/plain": [
       "           ID                             name        category main_category  \\\n",
       "0  1000002330  The Songs of Adelaide & Abullah          Poetry    Publishing   \n",
       "1  1000004038                   Where is Hank?  Narrative Film  Film & Video   \n",
       "\n",
       "  currency             deadline   goal             launched pledged   state  \\\n",
       "0      GBP  2015-10-09 11:36:00   1000  2015-08-11 12:12:28       0  failed   \n",
       "1      USD  2013-02-26 00:20:50  45000  2013-01-12 00:20:50     220  failed   \n",
       "\n",
       "  backers country usd pledged Unnamed: 13 Unnamed: 14 Unnamed: 15  Unnamed: 16  \n",
       "0       0      GB           0         NaN         NaN         NaN          NaN  \n",
       "1       3      US         220         NaN         NaN         NaN          NaN  "
      ]
     },
     "execution_count": 6,
     "metadata": {},
     "output_type": "execute_result"
    }
   ],
   "source": [
    "#Removendo os valores nulos:\n",
    "df = df.dropna( axis=0, subset=['name', 'category','usd pledged'])\n",
    "df.head(2)"
   ]
  },
  {
   "cell_type": "markdown",
   "metadata": {},
   "source": [
    "### Análise das colunas do database:\n",
    "O dataframe possui 4 colunas sem nome, vamos checar se elas tem algum conteudo:"
   ]
  },
  {
   "cell_type": "code",
   "execution_count": 7,
   "metadata": {},
   "outputs": [
    {
     "name": "stdout",
     "output_type": "stream",
     "text": [
      "A quantidade de valores nulos na coluna 14 é: 99.8058% \n",
      "A quantidade de valores nulos na coluna 15 é: 99.9962% \n",
      "A quantidade de valores nulos na coluna 16 é: 99.9987% \n",
      "A quantidade de valores nulos na coluna 17 é: 99.9997%\n"
     ]
    }
   ],
   "source": [
    "#Descobrindo quantidade de linhas nulas nas colunas sem nome:\n",
    "Unnamed_Colums_Null = [df['Unnamed: 13'].isna().sum(),df['Unnamed: 14'].isna().sum(),df['Unnamed: 15'].isna().sum(),df['Unnamed: 16'].isna().sum()]\n",
    "Unnamed_Colums_Not_Null = [df['Unnamed: 13'].value_counts().sum(),df['Unnamed: 14'].value_counts().sum(),df['Unnamed: 15'].value_counts().sum(),df['Unnamed: 16'].value_counts().sum()]\n",
    "Valores13 = 100-(df['Unnamed: 13'].value_counts().sum()/df['Unnamed: 13'].isna().sum()*100)\n",
    "Valores14 = 100-(df['Unnamed: 14'].value_counts().sum()/df['Unnamed: 14'].isna().sum()*100)\n",
    "Valores15 = 100-(df['Unnamed: 15'].value_counts().sum()/df['Unnamed: 15'].isna().sum()*100)\n",
    "Valores16 = 100-(df['Unnamed: 16'].value_counts().sum()/df['Unnamed: 16'].isna().sum()*100)\n",
    "print('A quantidade de valores nulos na coluna 14 é: {:.4f}%'.format(Valores13),'\\nA quantidade de valores nulos na coluna 15 é: {:.4f}%'.format(Valores14),'\\nA quantidade de valores nulos na coluna 16 é: {:.4f}%'.format(Valores15),'\\nA quantidade de valores nulos na coluna 17 é: {:.4f}%'.format(Valores16))"
   ]
  },
  {
   "cell_type": "code",
   "execution_count": 8,
   "metadata": {},
   "outputs": [],
   "source": [
    "#Removendo as ultimas 4 colunas (com valores nulos):\n",
    "df = df.iloc[:,:-4]"
   ]
  },
  {
   "cell_type": "code",
   "execution_count": 9,
   "metadata": {},
   "outputs": [
    {
     "data": {
      "text/html": [
       "<div>\n",
       "<style scoped>\n",
       "    .dataframe tbody tr th:only-of-type {\n",
       "        vertical-align: middle;\n",
       "    }\n",
       "\n",
       "    .dataframe tbody tr th {\n",
       "        vertical-align: top;\n",
       "    }\n",
       "\n",
       "    .dataframe thead th {\n",
       "        text-align: right;\n",
       "    }\n",
       "</style>\n",
       "<table border=\"1\" class=\"dataframe\">\n",
       "  <thead>\n",
       "    <tr style=\"text-align: right;\">\n",
       "      <th></th>\n",
       "      <th>ID</th>\n",
       "      <th>name</th>\n",
       "      <th>category</th>\n",
       "      <th>main_category</th>\n",
       "      <th>currency</th>\n",
       "      <th>deadline</th>\n",
       "      <th>goal</th>\n",
       "      <th>launched</th>\n",
       "      <th>pledged</th>\n",
       "      <th>state</th>\n",
       "      <th>backers</th>\n",
       "      <th>country</th>\n",
       "      <th>usd pledged</th>\n",
       "    </tr>\n",
       "  </thead>\n",
       "  <tbody>\n",
       "    <tr>\n",
       "      <th>0</th>\n",
       "      <td>1000002330</td>\n",
       "      <td>The Songs of Adelaide &amp; Abullah</td>\n",
       "      <td>Poetry</td>\n",
       "      <td>Publishing</td>\n",
       "      <td>GBP</td>\n",
       "      <td>2015-10-09 11:36:00</td>\n",
       "      <td>1000</td>\n",
       "      <td>2015-08-11 12:12:28</td>\n",
       "      <td>0</td>\n",
       "      <td>failed</td>\n",
       "      <td>0</td>\n",
       "      <td>GB</td>\n",
       "      <td>0</td>\n",
       "    </tr>\n",
       "    <tr>\n",
       "      <th>1</th>\n",
       "      <td>1000004038</td>\n",
       "      <td>Where is Hank?</td>\n",
       "      <td>Narrative Film</td>\n",
       "      <td>Film &amp; Video</td>\n",
       "      <td>USD</td>\n",
       "      <td>2013-02-26 00:20:50</td>\n",
       "      <td>45000</td>\n",
       "      <td>2013-01-12 00:20:50</td>\n",
       "      <td>220</td>\n",
       "      <td>failed</td>\n",
       "      <td>3</td>\n",
       "      <td>US</td>\n",
       "      <td>220</td>\n",
       "    </tr>\n",
       "  </tbody>\n",
       "</table>\n",
       "</div>"
      ],
      "text/plain": [
       "           ID                             name        category main_category  \\\n",
       "0  1000002330  The Songs of Adelaide & Abullah          Poetry    Publishing   \n",
       "1  1000004038                   Where is Hank?  Narrative Film  Film & Video   \n",
       "\n",
       "  currency             deadline   goal             launched pledged   state  \\\n",
       "0      GBP  2015-10-09 11:36:00   1000  2015-08-11 12:12:28       0  failed   \n",
       "1      USD  2013-02-26 00:20:50  45000  2013-01-12 00:20:50     220  failed   \n",
       "\n",
       "  backers country usd pledged  \n",
       "0       0      GB           0  \n",
       "1       3      US         220  "
      ]
     },
     "execution_count": 9,
     "metadata": {},
     "output_type": "execute_result"
    }
   ],
   "source": [
    "df.head(2)"
   ]
  },
  {
   "cell_type": "markdown",
   "metadata": {},
   "source": [
    "***\n",
    "\n",
    "### Transformando categorias qualiativas em quantiativas:\n",
    "\n",
    "O método usado para efetuar essa conversão é chamado de **One Hot Encoding**, que transforma variaveis categóricas em vetores binarios. Tal método transforma todas as variaveis em 0 menos a do item analisado, desse modo permitindo que sejam feitam análises em cima desse dados.\n",
    "<br>\n",
    "<br>"
   ]
  },
  {
   "cell_type": "code",
   "execution_count": 10,
   "metadata": {},
   "outputs": [],
   "source": [
    "#Função para chamar o get_dummies e remover a coluna base:\n",
    "def dummify(data, column_name):\n",
    "    df1 = data.copy()\n",
    "    df2 = pd.concat([df1.drop(column_name, axis=1), pd.get_dummies(data[column_name], prefix=column_name)], axis=1)\n",
    "    return df2"
   ]
  },
  {
   "cell_type": "code",
   "execution_count": 11,
   "metadata": {},
   "outputs": [],
   "source": [
    "#Transformando \"category\" em uma variável quantitativa:\n",
    "DF = dummify(df, \"category\")"
   ]
  },
  {
   "cell_type": "code",
   "execution_count": 12,
   "metadata": {},
   "outputs": [],
   "source": [
    "#Transformando \"currency\" em uma variável quantitativa:\n",
    "df[~df.currency.str.contains('\\A[a-z]{3}\\Z', case=False)].currency.value_counts();\n",
    "replace = df[~df.currency.str.contains('^[a-z]{3}$', case=False)].currency.unique().tolist()\n",
    "df.loc[:,'currency'] = df.currency.replace(to_replace=replace, value='Não especificado')\n",
    "\n",
    "DF = dummify(DF, \"currency\")"
   ]
  },
  {
   "cell_type": "code",
   "execution_count": 13,
   "metadata": {},
   "outputs": [],
   "source": [
    "#Transformando \"country\" em uma variável quantitativa:\n",
    "df[~df.country.str.contains('^[A-Z]{2}$', case=False)].country.value_counts()\n",
    "replace = df[~df.country.str.contains('^[A-Z]{2}$', case=False)].country.unique().tolist()\n",
    "df.loc[:,'country'] = df.country.replace(to_replace=replace, value='Não especificado')\n",
    "\n",
    "DF = dummify(DF, \"country\")"
   ]
  },
  {
   "cell_type": "code",
   "execution_count": 14,
   "metadata": {},
   "outputs": [],
   "source": [
    "#Transformando \"state\" em uma variável quantitativa:\n",
    "DF1 = dummify(df, \"state\")\n",
    "DF1 = DF1.iloc[:,414:]\n",
    "ddf = DF.join(DF1, how=\"inner\")\n",
    "ddf.drop(columns=['state', 'country_failed','country_successful'], inplace=True)\n",
    "ddf = ddf.iloc[:,9:]\n",
    "ddf = ddf.join((df['goal'],df['backers'],df['pledged']), how=\"inner\")"
   ]
  },
  {
   "cell_type": "markdown",
   "metadata": {},
   "source": [
    "Foi criado um dataframe novo para ser usado posterioremente pelos modelos de predição, todas variáveis categoricas foram convertidas em quantitativas. Essas foram adicionadas no final de cada dataframe por meio de novas colunas."
   ]
  },
  {
   "cell_type": "markdown",
   "metadata": {},
   "source": [
    "***\n",
    "### Análise das categorias principais mais recorrentes"
   ]
  },
  {
   "cell_type": "code",
   "execution_count": 15,
   "metadata": {},
   "outputs": [
    {
     "name": "stdout",
     "output_type": "stream",
     "text": [
      "O dataset possui 770 categorias, sendo 119 categorias principais.\n"
     ]
    }
   ],
   "source": [
    "print(\"O dataset possui {0} categorias, sendo {1} categorias principais.\".format(len(df.category.unique()),len(df.main_category.unique())))"
   ]
  },
  {
   "cell_type": "code",
   "execution_count": 16,
   "metadata": {},
   "outputs": [],
   "source": [
    "#Encontrando as 10 categorias principais com maior número de projetos:\n",
    "Top_Main_categories = df.main_category.value_counts().head(10)"
   ]
  },
  {
   "cell_type": "code",
   "execution_count": 17,
   "metadata": {},
   "outputs": [
    {
     "data": {
      "image/png": "[encoded data removed]",
      "text/plain": [
       "<Figure size 480x320 with 1 Axes>"
      ]
     },
     "metadata": {
      "needs_background": "light"
     },
     "output_type": "display_data"
    }
   ],
   "source": [
    "#Ploatndo um gráfico com as categorias principais com mais projetos:\n",
    "fig = plt.figure(dpi=80)\n",
    "ax  = sns.barplot(x = Top_Main_categories.values, y = Top_Main_categories.index, palette=\"BuGn_r\", data = df)\n",
    "plt.xlabel(\"Projetos\")\n",
    "plt.title(\"\\nCategorias principais com o maior \\nnúmero de projetos\")\n",
    "plt.show()"
   ]
  },
  {
   "cell_type": "markdown",
   "metadata": {},
   "source": [
    "É possivel concluir que entre as categorias principais filme e video está em primeiro lugar e com uma boa margem, seguida de musica e publicações."
   ]
  },
  {
   "cell_type": "markdown",
   "metadata": {},
   "source": [
    "### Análise das categorias mais recorrentes:"
   ]
  },
  {
   "cell_type": "code",
   "execution_count": 18,
   "metadata": {},
   "outputs": [],
   "source": [
    "#Encontrando as 10 categorias com maior número de projetos:\n",
    "Top_categories = df.category.value_counts().head(10)"
   ]
  },
  {
   "cell_type": "code",
   "execution_count": 19,
   "metadata": {},
   "outputs": [
    {
     "data": {
      "image/png": "[encoded data removed]",
      "text/plain": [
       "<Figure size 480x320 with 1 Axes>"
      ]
     },
     "metadata": {
      "needs_background": "light"
     },
     "output_type": "display_data"
    }
   ],
   "source": [
    "#Ploatndo um gráfico com as categorias principais com mais projetos:\n",
    "fig = plt.figure(dpi = 80)\n",
    "ax  = sns.barplot(x = Top_categories.values, y = Top_categories.index, palette=\"Blues_r\", data = df)\n",
    "plt.xlabel(\"Projetos\")\n",
    "plt.title(\"\\nCategorias com o maior número de projetos\")\n",
    "plt.show()"
   ]
  },
  {
   "cell_type": "markdown",
   "metadata": {},
   "source": [
    "### Análise da taxa de sucesso entre as categorias principais:"
   ]
  },
  {
   "cell_type": "code",
   "execution_count": 39,
   "metadata": {},
   "outputs": [],
   "source": [
    "Top_Main_categories = dict(Top_Main_categories)\n",
    "\n",
    "#calculando porcentagem de projetos que atingiram a meta por categoria:\n",
    "def calcula_prob(categoria):\n",
    "    return len(df[(df.main_category==categoria)&(df.state == \"successful\")])/len(df[(df.main_category == categoria)])\n",
    "\n",
    "#criando listas para atribuir os valores da porcentagem dos projetos bem sucedidos:\n",
    "probcat=[]\n",
    "porcat =[]\n",
    "\n",
    "#Atribuindo os nomes das categorias a uma variável em forma de lista:\n",
    "nome_cat = list(Top_Main_categories.keys())"
   ]
  },
  {
   "cell_type": "code",
   "execution_count": 40,
   "metadata": {},
   "outputs": [],
   "source": [
    "#Criando um loop para atribuir os valores da porcentagem na lista:\n",
    "for i in Top_Main_categories:\n",
    "    probcat.append(calcula_prob(i))\n",
    "\n",
    "for e in probcat:\n",
    "    porcat.append(e*100)"
   ]
  },
  {
   "cell_type": "code",
   "execution_count": 41,
   "metadata": {},
   "outputs": [
    {
     "data": {
      "image/png": "[encoded data removed]",
      "text/plain": [
       "<Figure size 480x320 with 1 Axes>"
      ]
     },
     "metadata": {
      "needs_background": "light"
     },
     "output_type": "display_data"
    }
   ],
   "source": [
    "#Plotando o gráfico da porcentagem de sucesso para cada categoria principal:\n",
    "fig = plt.figure(dpi=80)\n",
    "ax  = sns.barplot(x = porcat, y = nome_cat,palette= \"Set2\", data = df)\n",
    "plt.xlabel(\"Porcentagem de projetos que atingiram a meta(%)\")\n",
    "plt.title(\"\\nCategorias principais com o maior número de \\nprojetos que atingiram a meta\")\n",
    "plt.show()"
   ]
  },
  {
   "cell_type": "markdown",
   "metadata": {},
   "source": [
    "### Análise dos paises de maior número de projetos"
   ]
  },
  {
   "cell_type": "code",
   "execution_count": 21,
   "metadata": {},
   "outputs": [
    {
     "data": {
      "image/png": "[encoded data removed]",
      "text/plain": [
       "<Figure size 480x320 with 1 Axes>"
      ]
     },
     "metadata": {
      "needs_background": "light"
     },
     "output_type": "display_data"
    }
   ],
   "source": [
    "Top_Country = df.country.value_counts().head(5)\n",
    "fig = plt.figure(dpi = 80)\n",
    "ax  = sns.barplot(x = Top_Country.values, y = Top_Country.index, palette=\"BuGn_r\", data = df);\n",
    "plt.title(\"Quantidade de projetos por país\")\n",
    "plt.show()"
   ]
  },
  {
   "cell_type": "code",
   "execution_count": 22,
   "metadata": {},
   "outputs": [
    {
     "data": {
      "image/png": "[encoded data removed]",
      "text/plain": [
       "<Figure size 480x320 with 1 Axes>"
      ]
     },
     "metadata": {
      "needs_background": "light"
     },
     "output_type": "display_data"
    }
   ],
   "source": [
    "\n",
    "#################################\n",
    " #                               #\n",
    "  #             Rever             #\n",
    " #                               #\n",
    "#################################\n",
    "\n",
    "Top_Country = dict(Top_Country)\n",
    "\n",
    "#calculando porcentagem de projetos que atingiram a meta por categoria:\n",
    "def calcula_prob(country):\n",
    "    return len(df[(df.country==country)&(df.state == \"successful\")])/len(df.country)\n",
    "\n",
    "probcountry=[]\n",
    "for i in Top_Country:\n",
    "    probcountry.append(calcula_prob(i))\n",
    "\n",
    "nome_cat = list(Top_Country.keys())\n",
    "\n",
    "porcat=[]\n",
    "\n",
    "for e in probcountry:\n",
    "    porcat.append(e*100)\n",
    "\n",
    "fig = plt.figure(dpi=80)\n",
    "ax  = sns.barplot(x = porcat, y = nome_cat, palette=\"BuGn_d\", data = df)\n",
    "plt.xlabel(\"Porcentagem de projetos que atingiram a meta(%)\")\n",
    "plt.title(\"\\nPorcentagem de sucessos nas categorias principais\")\n",
    "plt.show()"
   ]
  },
  {
   "cell_type": "markdown",
   "metadata": {},
   "source": [
    "### Análise da quantidade de apoiadores dos projetos:"
   ]
  },
  {
   "cell_type": "code",
   "execution_count": null,
   "metadata": {},
   "outputs": [],
   "source": []
  },
  {
   "cell_type": "markdown",
   "metadata": {},
   "source": [
    "### Análise das datas :"
   ]
  },
  {
   "cell_type": "code",
   "execution_count": 23,
   "metadata": {},
   "outputs": [
    {
     "data": {
      "text/html": [
       "<div>\n",
       "<style scoped>\n",
       "    .dataframe tbody tr th:only-of-type {\n",
       "        vertical-align: middle;\n",
       "    }\n",
       "\n",
       "    .dataframe tbody tr th {\n",
       "        vertical-align: top;\n",
       "    }\n",
       "\n",
       "    .dataframe thead th {\n",
       "        text-align: right;\n",
       "    }\n",
       "</style>\n",
       "<table border=\"1\" class=\"dataframe\">\n",
       "  <thead>\n",
       "    <tr style=\"text-align: right;\">\n",
       "      <th></th>\n",
       "      <th>category_  A Faerie's Tale.</th>\n",
       "      <th>category_ 'As The World Collapses'</th>\n",
       "      <th>category_ 'But it's my Birthday!' Edinburgh Fringe 2013</th>\n",
       "      <th>category_ 'Night Into Day' (Canceled)</th>\n",
       "      <th>category_ 'Take Me Away' ... Become a part of Team Kerrin!</th>\n",
       "      <th>category_ (An American Opera )</th>\n",
       "      <th>category_ (Canceled)</th>\n",
       "      <th>category_ 1st Birthday Celebration!</th>\n",
       "      <th>category_ 2 NEW Music Videos (one fan voted)</th>\n",
       "      <th>category_ 2 full length CDs!</th>\n",
       "      <th>...</th>\n",
       "      <th>goal</th>\n",
       "      <th>backers</th>\n",
       "      <th>pledged</th>\n",
       "      <th>Dia de abertura</th>\n",
       "      <th>Mês de abertura</th>\n",
       "      <th>Ano de abertura</th>\n",
       "      <th>Dia de encerramento</th>\n",
       "      <th>Mês de encerramento</th>\n",
       "      <th>Ano de encerramento</th>\n",
       "      <th>Duração da Arrecadação</th>\n",
       "    </tr>\n",
       "  </thead>\n",
       "  <tbody>\n",
       "    <tr>\n",
       "      <th>0</th>\n",
       "      <td>0</td>\n",
       "      <td>0</td>\n",
       "      <td>0</td>\n",
       "      <td>0</td>\n",
       "      <td>0</td>\n",
       "      <td>0</td>\n",
       "      <td>0</td>\n",
       "      <td>0</td>\n",
       "      <td>0</td>\n",
       "      <td>0</td>\n",
       "      <td>...</td>\n",
       "      <td>1000</td>\n",
       "      <td>0</td>\n",
       "      <td>0</td>\n",
       "      <td>11.0</td>\n",
       "      <td>8.0</td>\n",
       "      <td>2015.0</td>\n",
       "      <td>9.0</td>\n",
       "      <td>10.0</td>\n",
       "      <td>2015.0</td>\n",
       "      <td>5095412000000000</td>\n",
       "    </tr>\n",
       "  </tbody>\n",
       "</table>\n",
       "<p>1 rows × 976 columns</p>\n",
       "</div>"
      ],
      "text/plain": [
       "   category_  A Faerie's Tale.  category_ 'As The World Collapses'  \\\n",
       "0                            0                                   0   \n",
       "\n",
       "   category_ 'But it's my Birthday!' Edinburgh Fringe 2013  \\\n",
       "0                                                  0         \n",
       "\n",
       "   category_ 'Night Into Day' (Canceled)  \\\n",
       "0                                      0   \n",
       "\n",
       "   category_ 'Take Me Away' ... Become a part of Team Kerrin!  \\\n",
       "0                                                  0            \n",
       "\n",
       "   category_ (An American Opera )  category_ (Canceled)  \\\n",
       "0                               0                     0   \n",
       "\n",
       "   category_ 1st Birthday Celebration!  \\\n",
       "0                                    0   \n",
       "\n",
       "   category_ 2 NEW Music Videos (one fan voted)  category_ 2 full length CDs!  \\\n",
       "0                                             0                             0   \n",
       "\n",
       "            ...            goal  backers  pledged  Dia de abertura  \\\n",
       "0           ...            1000        0        0             11.0   \n",
       "\n",
       "   Mês de abertura  Ano de abertura  Dia de encerramento  Mês de encerramento  \\\n",
       "0              8.0           2015.0                  9.0                 10.0   \n",
       "\n",
       "   Ano de encerramento  Duração da Arrecadação  \n",
       "0               2015.0        5095412000000000  \n",
       "\n",
       "[1 rows x 976 columns]"
      ]
     },
     "execution_count": 23,
     "metadata": {},
     "output_type": "execute_result"
    }
   ],
   "source": [
    "ddf[\"deadline\"] = pd.to_datetime(df[\"deadline\"], errors='coerce')\n",
    "ddf[\"launched\"] = pd.to_datetime(df[\"launched\"], errors='coerce')\n",
    "lista = ddf.deadline.tolist()\n",
    "lista2= ddf.launched.tolist()\n",
    "lista_dia_abertura=[]\n",
    "lista_mes_abertura=[]\n",
    "lista_ano_abertura=[]\n",
    "lista_dia_encerramento=[]\n",
    "lista_mes_encerramento=[]\n",
    "lista_ano_encerramento=[]\n",
    "lista_duracao=[]\n",
    "\n",
    "for e in lista2:\n",
    "    lista_dia_abertura.append(e.day)\n",
    "    lista_mes_abertura.append(e.month)\n",
    "    lista_ano_abertura.append(e.year)\n",
    "\n",
    "\n",
    "for e in lista:\n",
    "    lista_dia_encerramento.append(e.day)\n",
    "    lista_mes_encerramento.append(e.month)\n",
    "    lista_ano_encerramento.append(e.year)\n",
    "    \n",
    "ddf[\"Dia de abertura\"]=lista_dia_abertura\n",
    "ddf[\"Mês de abertura\"]=lista_mes_abertura\n",
    "ddf[\"Ano de abertura\"]=lista_ano_abertura    \n",
    "ddf['Dia de encerramento']=lista_dia_encerramento\n",
    "ddf[\"Mês de encerramento\"]=lista_mes_encerramento\n",
    "ddf[\"Ano de encerramento\"]=lista_ano_encerramento\n",
    "\n",
    "for e in range(len(lista)):\n",
    "    lista_duracao.append(lista[e]-lista2[e])\n",
    "\n",
    "\n",
    "ddf[\"Duração da Arrecadação\"]=lista_duracao\n",
    "ddf[\"Duração da Arrecadação\"] = pd.to_numeric(ddf[\"Duração da Arrecadação\"], errors='coerce')\n",
    "ddf = ddf.drop(columns=['deadline','launched'])\n",
    "ddf = ddf.dropna( axis=0, subset=[\"Dia de abertura\",\"Mês de abertura\",\"Ano de abertura\",'Dia de encerramento',\"Mês de encerramento\",\"Ano de encerramento\",\"Duração da Arrecadação\"])\n",
    "\n",
    "dff = ddf.drop(columns=['state_successful','state_canceled','state_failed','state_live','state_suspended'])"
   ]
  },
  {
   "cell_type": "markdown",
   "metadata": {},
   "source": [
    "### implementando o classificador:"
   ]
  },
  {
   "cell_type": "code",
   "execution_count": 28,
   "metadata": {},
   "outputs": [
    {
     "name": "stdout",
     "output_type": "stream",
     "text": [
      "A acurácia é de 99.17%\n"
     ]
    }
   ],
   "source": [
    "from sklearn.metrics import accuracy_score\n",
    "from sklearn.tree import DecisionTreeClassifier\n",
    "\n",
    "X_train, X_test, y_train, y_test = train_test_split(dff, ddf['state_successful'], test_size = 0.3, random_state = 100)                           \n",
    "                           \n",
    "clf_gini = DecisionTreeClassifier(criterion = \"gini\", random_state = 100, \n",
    "                               max_depth=8, min_samples_leaf=4)\n",
    "clf_gini.fit(X_train, y_train)   \n",
    "\n",
    "y_pred = clf_gini.predict(X_test)\n",
    "\n",
    "acc = accuracy_score(y_test, y_pred)\n",
    "\n",
    "acc = acc*100\n",
    "print(\"A acurácia é de {:.2f}%\".format(acc))"
   ]
  },
  {
   "cell_type": "markdown",
   "metadata": {},
   "source": [
    "### Implementando o RandomForest:"
   ]
  },
  {
   "cell_type": "code",
   "execution_count": 31,
   "metadata": {},
   "outputs": [
    {
     "name": "stdout",
     "output_type": "stream",
     "text": [
      "Acurácia: 0.962638906023136\n"
     ]
    }
   ],
   "source": [
    "from sklearn.ensemble import RandomForestClassifier\n",
    "from sklearn.model_selection import train_test_split\n",
    "\n",
    "RANDOM_SEED = 42\n",
    "\n",
    "np.random.seed(RANDOM_SEED)\n",
    "\n",
    "X_train, X_test, y_train, y_test = train_test_split(dff, ddf['state_successful'], test_size=0.33, random_state=RANDOM_SEED)\n",
    "\n",
    "X_train.shape, y_train.shape, X_test.shape, y_test.shape\n",
    "\n",
    "x_logistica = np.linspace(-10, 10, 500)\n",
    "y_logistica = 1/(1 + np.exp(-x_logistica))\n",
    "\n",
    "model = RandomForestClassifier()\n",
    "model.fit(X_train, y_train)\n",
    "y_pred = model.predict(X_test)\n",
    "print('Acurácia: {}'.format(accuracy_score(y_test, y_pred)))"
   ]
  },
  {
   "cell_type": "markdown",
   "metadata": {},
   "source": [
    "## Referências:\n",
    "\n",
    "- \n",
    "- \n",
    "- "
   ]
  },
  {
   "cell_type": "code",
   "execution_count": null,
   "metadata": {},
   "outputs": [],
   "source": []
  }
 ],
 "metadata": {
  "kernelspec": {
   "display_name": "Python 3",
   "language": "python",
   "name": "python3"
  },
  "language_info": {
   "codemirror_mode": {
    "name": "ipython",
    "version": 3
   },
   "file_extension": ".py",
   "mimetype": "text/x-python",
   "name": "python",
   "nbconvert_exporter": "python",
   "pygments_lexer": "ipython3",
   "version": "3.7.0"
  }
 },
 "nbformat": 4,
 "nbformat_minor": 2
}
