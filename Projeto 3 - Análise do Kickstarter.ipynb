{
 "cells": [
  {
   "cell_type": "markdown",
   "metadata": {},
   "source": [
    "# Projeto 3\n",
    "***\n",
    "\n",
    "### Análise de projetos no Kickstarter\n",
    "\n",
    "As análises feitas a seguir foram feitas a partir do seguinte dataset:\n",
    "\n",
    "- https://www.kaggle.com/kemical/kickstarter-projects\n",
    "\n",
    "**Objetivo deste estudo:** Descobrir a probabilidade de sucesso de um projeto no kickstarter."
   ]
  },
  {
   "cell_type": "code",
   "execution_count": 1,
   "metadata": {},
   "outputs": [],
   "source": [
    "#importando bibliotecas\n",
    "import pandas as pd\n",
    "import matplotlib.pyplot as plt\n",
    "import numpy as np\n",
    "import seaborn as sns"
   ]
  },
  {
   "cell_type": "markdown",
   "metadata": {},
   "source": [
    "## Análise Exploratória:"
   ]
  },
  {
   "cell_type": "code",
   "execution_count": 2,
   "metadata": {},
   "outputs": [],
   "source": [
    "#Importado o arquivo\n",
    "df = pd.read_csv('ks-projects-201612.csv', encoding='iso-8859-1', low_memory=False)"
   ]
  },
  {
   "cell_type": "code",
   "execution_count": 3,
   "metadata": {},
   "outputs": [
    {
     "name": "stdout",
     "output_type": "stream",
     "text": [
      "O Dataframe tem 323750 linhas por 17 colunas.\n"
     ]
    }
   ],
   "source": [
    "linhas,colunas = df.shape\n",
    "print(\"O Dataframe tem {0} linhas por {1} colunas.\".format(linhas,colunas))"
   ]
  },
  {
   "cell_type": "code",
   "execution_count": 4,
   "metadata": {},
   "outputs": [],
   "source": [
    "#Removendo os espaços em branco dos nomes das colunas:\n",
    "df.columns = [x.strip() for x in df.columns.tolist()]"
   ]
  },
  {
   "cell_type": "code",
   "execution_count": 5,
   "metadata": {},
   "outputs": [
    {
     "name": "stdout",
     "output_type": "stream",
     "text": [
      "Valores nulos na coluna \"name\": True \n",
      "Valores nulos na coluna \"category\": True\n"
     ]
    }
   ],
   "source": [
    "#Procurando por valores nulos que podem causar problemas posteriores:\n",
    "print('Valores nulos na coluna \"name\":', df[\"name\"].isnull().any(), '\\nValores nulos na coluna \"category\":', df[\"category\"].isnull().any())"
   ]
  },
  {
   "cell_type": "code",
   "execution_count": 6,
   "metadata": {},
   "outputs": [
    {
     "data": {
      "text/html": [
       "<div>\n",
       "<style scoped>\n",
       "    .dataframe tbody tr th:only-of-type {\n",
       "        vertical-align: middle;\n",
       "    }\n",
       "\n",
       "    .dataframe tbody tr th {\n",
       "        vertical-align: top;\n",
       "    }\n",
       "\n",
       "    .dataframe thead th {\n",
       "        text-align: right;\n",
       "    }\n",
       "</style>\n",
       "<table border=\"1\" class=\"dataframe\">\n",
       "  <thead>\n",
       "    <tr style=\"text-align: right;\">\n",
       "      <th></th>\n",
       "      <th>ID</th>\n",
       "      <th>name</th>\n",
       "      <th>category</th>\n",
       "      <th>main_category</th>\n",
       "      <th>currency</th>\n",
       "      <th>deadline</th>\n",
       "      <th>goal</th>\n",
       "      <th>launched</th>\n",
       "      <th>pledged</th>\n",
       "      <th>state</th>\n",
       "      <th>backers</th>\n",
       "      <th>country</th>\n",
       "      <th>usd pledged</th>\n",
       "      <th>Unnamed: 13</th>\n",
       "      <th>Unnamed: 14</th>\n",
       "      <th>Unnamed: 15</th>\n",
       "      <th>Unnamed: 16</th>\n",
       "    </tr>\n",
       "  </thead>\n",
       "  <tbody>\n",
       "    <tr>\n",
       "      <th>0</th>\n",
       "      <td>1000002330</td>\n",
       "      <td>The Songs of Adelaide &amp; Abullah</td>\n",
       "      <td>Poetry</td>\n",
       "      <td>Publishing</td>\n",
       "      <td>GBP</td>\n",
       "      <td>2015-10-09 11:36:00</td>\n",
       "      <td>1000</td>\n",
       "      <td>2015-08-11 12:12:28</td>\n",
       "      <td>0</td>\n",
       "      <td>failed</td>\n",
       "      <td>0</td>\n",
       "      <td>GB</td>\n",
       "      <td>0</td>\n",
       "      <td>NaN</td>\n",
       "      <td>NaN</td>\n",
       "      <td>NaN</td>\n",
       "      <td>NaN</td>\n",
       "    </tr>\n",
       "    <tr>\n",
       "      <th>1</th>\n",
       "      <td>1000004038</td>\n",
       "      <td>Where is Hank?</td>\n",
       "      <td>Narrative Film</td>\n",
       "      <td>Film &amp; Video</td>\n",
       "      <td>USD</td>\n",
       "      <td>2013-02-26 00:20:50</td>\n",
       "      <td>45000</td>\n",
       "      <td>2013-01-12 00:20:50</td>\n",
       "      <td>220</td>\n",
       "      <td>failed</td>\n",
       "      <td>3</td>\n",
       "      <td>US</td>\n",
       "      <td>220</td>\n",
       "      <td>NaN</td>\n",
       "      <td>NaN</td>\n",
       "      <td>NaN</td>\n",
       "      <td>NaN</td>\n",
       "    </tr>\n",
       "  </tbody>\n",
       "</table>\n",
       "</div>"
      ],
      "text/plain": [
       "           ID                             name        category main_category  \\\n",
       "0  1000002330  The Songs of Adelaide & Abullah          Poetry    Publishing   \n",
       "1  1000004038                   Where is Hank?  Narrative Film  Film & Video   \n",
       "\n",
       "  currency             deadline   goal             launched pledged   state  \\\n",
       "0      GBP  2015-10-09 11:36:00   1000  2015-08-11 12:12:28       0  failed   \n",
       "1      USD  2013-02-26 00:20:50  45000  2013-01-12 00:20:50     220  failed   \n",
       "\n",
       "  backers country usd pledged Unnamed: 13 Unnamed: 14 Unnamed: 15  Unnamed: 16  \n",
       "0       0      GB           0         NaN         NaN         NaN          NaN  \n",
       "1       3      US         220         NaN         NaN         NaN          NaN  "
      ]
     },
     "execution_count": 6,
     "metadata": {},
     "output_type": "execute_result"
    }
   ],
   "source": [
    "#Removendo os valores nulos:\n",
    "df = df.dropna( axis=0, subset=['name', 'category'])\n",
    "df.head(2)"
   ]
  },
  {
   "cell_type": "code",
   "execution_count": 7,
   "metadata": {},
   "outputs": [],
   "source": [
    "#Removendo as ultimas 4 colunas extras:\n",
    "df = df.iloc[:,:-4]"
   ]
  },
  {
   "cell_type": "code",
   "execution_count": 8,
   "metadata": {},
   "outputs": [
    {
     "data": {
      "text/html": [
       "<div>\n",
       "<style scoped>\n",
       "    .dataframe tbody tr th:only-of-type {\n",
       "        vertical-align: middle;\n",
       "    }\n",
       "\n",
       "    .dataframe tbody tr th {\n",
       "        vertical-align: top;\n",
       "    }\n",
       "\n",
       "    .dataframe thead th {\n",
       "        text-align: right;\n",
       "    }\n",
       "</style>\n",
       "<table border=\"1\" class=\"dataframe\">\n",
       "  <thead>\n",
       "    <tr style=\"text-align: right;\">\n",
       "      <th></th>\n",
       "      <th>ID</th>\n",
       "      <th>name</th>\n",
       "      <th>category</th>\n",
       "      <th>main_category</th>\n",
       "      <th>currency</th>\n",
       "      <th>deadline</th>\n",
       "      <th>goal</th>\n",
       "      <th>launched</th>\n",
       "      <th>pledged</th>\n",
       "      <th>state</th>\n",
       "      <th>backers</th>\n",
       "      <th>country</th>\n",
       "      <th>usd pledged</th>\n",
       "    </tr>\n",
       "  </thead>\n",
       "  <tbody>\n",
       "    <tr>\n",
       "      <th>0</th>\n",
       "      <td>1000002330</td>\n",
       "      <td>The Songs of Adelaide &amp; Abullah</td>\n",
       "      <td>Poetry</td>\n",
       "      <td>Publishing</td>\n",
       "      <td>GBP</td>\n",
       "      <td>2015-10-09 11:36:00</td>\n",
       "      <td>1000</td>\n",
       "      <td>2015-08-11 12:12:28</td>\n",
       "      <td>0</td>\n",
       "      <td>failed</td>\n",
       "      <td>0</td>\n",
       "      <td>GB</td>\n",
       "      <td>0</td>\n",
       "    </tr>\n",
       "    <tr>\n",
       "      <th>1</th>\n",
       "      <td>1000004038</td>\n",
       "      <td>Where is Hank?</td>\n",
       "      <td>Narrative Film</td>\n",
       "      <td>Film &amp; Video</td>\n",
       "      <td>USD</td>\n",
       "      <td>2013-02-26 00:20:50</td>\n",
       "      <td>45000</td>\n",
       "      <td>2013-01-12 00:20:50</td>\n",
       "      <td>220</td>\n",
       "      <td>failed</td>\n",
       "      <td>3</td>\n",
       "      <td>US</td>\n",
       "      <td>220</td>\n",
       "    </tr>\n",
       "  </tbody>\n",
       "</table>\n",
       "</div>"
      ],
      "text/plain": [
       "           ID                             name        category main_category  \\\n",
       "0  1000002330  The Songs of Adelaide & Abullah          Poetry    Publishing   \n",
       "1  1000004038                   Where is Hank?  Narrative Film  Film & Video   \n",
       "\n",
       "  currency             deadline   goal             launched pledged   state  \\\n",
       "0      GBP  2015-10-09 11:36:00   1000  2015-08-11 12:12:28       0  failed   \n",
       "1      USD  2013-02-26 00:20:50  45000  2013-01-12 00:20:50     220  failed   \n",
       "\n",
       "  backers country usd pledged  \n",
       "0       0      GB           0  \n",
       "1       3      US         220  "
      ]
     },
     "execution_count": 8,
     "metadata": {},
     "output_type": "execute_result"
    }
   ],
   "source": [
    "df.head(2)"
   ]
  },
  {
   "cell_type": "markdown",
   "metadata": {},
   "source": [
    "### Análise das categorias mais recorrentes"
   ]
  },
  {
   "cell_type": "code",
   "execution_count": 9,
   "metadata": {},
   "outputs": [
    {
     "name": "stdout",
     "output_type": "stream",
     "text": [
      "O dataset possui 770 categorias. Sendo 119 categorias principais.\n"
     ]
    }
   ],
   "source": [
    "print(\"O dataset possui {0} categorias. Sendo {1} categorias principais.\".format(len(df.category.unique()),len(df.main_category.unique())))\n",
    "#print(df['category'].unique())\n",
    "#print(df['main_category'].unique()) "
   ]
  },
  {
   "cell_type": "code",
   "execution_count": 10,
   "metadata": {},
   "outputs": [],
   "source": [
    "#Encontrando as categorias com maior número de projetos:\n",
    "Top_categories = df.category.value_counts().head(10)\n",
    "\n",
    "#Encontrando as categorias principais com maior número de projetos:\n",
    "Top_Main_categories = df.main_category.value_counts().head(10)"
   ]
  },
  {
   "cell_type": "code",
   "execution_count": 11,
   "metadata": {},
   "outputs": [
    {
     "data": {
      "image/png": "[encoded data removed]",
      "text/plain": [
       "<matplotlib.figure.Figure at 0x1a167b6400>"
      ]
     },
     "metadata": {},
     "output_type": "display_data"
    },
    {
     "data": {
      "image/png": "[encoded data removed]",
      "text/plain": [
       "<matplotlib.figure.Figure at 0x11158af28>"
      ]
     },
     "metadata": {},
     "output_type": "display_data"
    }
   ],
   "source": [
    "#Ploatndo um gráfico com as categorias principais com mais projetos:\n",
    "fig = plt.figure(dpi = 80)\n",
    "ax  = sns.barplot(x = Top_categories.values, y = Top_categories.index, palette=\"Blues_r\", data = df)\n",
    "plt.xlabel(\"Projetos\")\n",
    "plt.title(\"\\nCategorias com o maior número de projetos\"+(8*\" \")+\"\\n\")\n",
    "plt.style.use('fivethirtyeight')\n",
    "plt.show()\n",
    "\n",
    "#Ploatndo um gráfico com as categorias principais com mais projetos:\n",
    "fig = plt.figure(dpi=80)\n",
    "ax  = sns.barplot(x = Top_Main_categories.values, y = Top_Main_categories.index, palette=\"BuGn_r\", data = df)\n",
    "plt.xlabel(\"Projetos\")\n",
    "plt.title(\"\\nCategorias principais com o maior número de projetos\\n\")\n",
    "plt.style.use('fivethirtyeight')\n",
    "plt.show()"
   ]
  },
  {
   "cell_type": "markdown",
   "metadata": {},
   "source": [
    "### Análise dos paises de maior número de projetos"
   ]
  },
  {
   "cell_type": "code",
   "execution_count": 12,
   "metadata": {},
   "outputs": [],
   "source": [
    "df[~df.country.str.contains('^[A-Z]{2}$', case=False)].country.value_counts();"
   ]
  },
  {
   "cell_type": "code",
   "execution_count": 13,
   "metadata": {},
   "outputs": [],
   "source": [
    "replace = df[~df.country.str.contains('^[A-Z]{2}$', case=False)].country.unique().tolist()\n",
    "df.loc[:,'country'] = df.country.replace(to_replace=replace, value='Não especificado')"
   ]
  },
  {
   "cell_type": "code",
   "execution_count": 14,
   "metadata": {},
   "outputs": [],
   "source": [
    "df.country.value_counts();"
   ]
  },
  {
   "cell_type": "code",
   "execution_count": 15,
   "metadata": {},
   "outputs": [
    {
     "data": {
      "image/png": "[encoded data removed]",
      "text/plain": [
       "<matplotlib.figure.Figure at 0x1a167b2da0>"
      ]
     },
     "metadata": {},
     "output_type": "display_data"
    }
   ],
   "source": [
    "plt.style.use('fivethirtyeight')\n",
    "COUNTRY = df.country.value_counts().head(5)\n",
    "fig = plt.figure(dpi = 80)\n",
    "ax  = sns.barplot(x = COUNTRY.values, y = COUNTRY.index, palette=\"BuGn_r\", data = df);\n",
    "plt.title(\"Quantidade de projetos por país\")\n",
    "plt.show()"
   ]
  },
  {
   "cell_type": "code",
   "execution_count": null,
   "metadata": {},
   "outputs": [],
   "source": []
  }
 ],
 "metadata": {
  "kernelspec": {
   "display_name": "Python 3",
   "language": "python",
   "name": "python3"
  },
  "language_info": {
   "codemirror_mode": {
    "name": "ipython",
    "version": 3
   },
   "file_extension": ".py",
   "mimetype": "text/x-python",
   "name": "python",
   "nbconvert_exporter": "python",
   "pygments_lexer": "ipython3",
   "version": "3.6.4"
  }
 },
 "nbformat": 4,
 "nbformat_minor": 2
}
